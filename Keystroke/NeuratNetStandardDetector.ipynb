{
 "cells": [
  {
   "cell_type": "code",
   "execution_count": 13,
   "metadata": {
    "collapsed": false
   },
   "outputs": [],
   "source": [
    "# Disable warnings from printing\n",
    "from warnings import filterwarnings\n",
    "filterwarnings('ignore')\n",
    "\n",
    "import numpy as np\n",
    "import pandas as pd\n",
    "from sklearn.neural_network import MLPRegressor\n",
    "from sklearn.metrics import roc_curve\n",
    "from scipy.spatial.distance import cityblock, mahalanobis, euclidean\n"
   ]
  },
  {
   "cell_type": "code",
   "execution_count": 14,
   "metadata": {
    "collapsed": true
   },
   "outputs": [],
   "source": [
    "data = pd.read_csv(\"DSL-StrongPasswordData.csv\")"
   ]
  },
  {
   "cell_type": "code",
   "execution_count": 15,
   "metadata": {
    "collapsed": false
   },
   "outputs": [],
   "source": [
    "# 51 total\n",
    "subjects = data[\"subject\"].unique()"
   ]
  },
  {
   "cell_type": "code",
   "execution_count": 16,
   "metadata": {
    "collapsed": true
   },
   "outputs": [],
   "source": [
    "def evaluateEER(user_scores, imposter_scores):\n",
    "    labels = [0]*len(user_scores) + [1]*len(imposter_scores)\n",
    "    fpr, tpr, thresholds = roc_curve(labels, user_scores + imposter_scores)\n",
    "    missrates = 1 - tpr\n",
    "    farates = fpr\n",
    "    dists = missrates - farates\n",
    "    idx1 = np.argmin(dists[dists >= 0])\n",
    "    idx2 = np.argmax(dists[dists < 0])\n",
    "    x = [missrates[idx1], farates[idx1]]\n",
    "    y = [missrates[idx2], farates[idx2]]\n",
    "    a = ( x[0] - x[1] ) / ( y[1] - x[1] - y[0] + x[0] )\n",
    "    eer = x[0] + a * ( y[0] - x[0] )\n",
    "    return eer"
   ]
  },
  {
   "cell_type": "code",
   "execution_count": 17,
   "metadata": {
    "collapsed": false
   },
   "outputs": [],
   "source": [
    "\n",
    "\n",
    "\n",
    "class NeuralNetStandardDetector:\n",
    "    def __init__(self, subjects):\n",
    "        self.user_scores = []\n",
    "        self.imposter_scores = []\n",
    "        self.subjects = subjects\n",
    "        self.learning_rate = 0.0001\n",
    "        self.training_epochs = 500\n",
    "        self.n_hidden = 21\n",
    "\n",
    "    def training(self):\n",
    "        # Define the MLPRegressor model\n",
    "        self.nn = MLPRegressor(\n",
    "            hidden_layer_sizes=(self.n_hidden,),  # Single hidden layer with n_hidden units\n",
    "            learning_rate_init=self.learning_rate,\n",
    "            max_iter=self.training_epochs,\n",
    "            activation=\"relu\",  # Rectifier (ReLU) activation\n",
    "            solver=\"adam\",  # Adaptive moment estimation solver\n",
    "            random_state=42\n",
    "        )\n",
    "        \n",
    "        # Train the model with training data\n",
    "        self.nn.fit(np.array(self.train), np.ones(self.train.shape[0]))\n",
    "        \n",
    "    def testing(self):\n",
    "        # Predict genuine scores\n",
    "        preds = 1 - self.nn.predict(np.array(self.test_genuine))\n",
    "        self.user_scores.extend(preds)\n",
    "        \n",
    "        # Predict imposter scores\n",
    "        preds = 1 - self.nn.predict(np.array(self.test_imposter))\n",
    "        self.imposter_scores.extend(preds)\n",
    "    \n",
    "    def evaluate(self, data):\n",
    "        eers = []\n",
    "        \n",
    "        for subject in self.subjects:\n",
    "            self.user_scores = []\n",
    "            self.imposter_scores = []\n",
    "    \n",
    "            # Consider current subject as genuine and rest as imposters\n",
    "            genuine_user_data = data.loc[data.subject == subject, \"H.period\":\"H.Return\"]\n",
    "            imposter_data = data.loc[data.subject != subject, :]\n",
    "    \n",
    "            # Genuine user's first 200 time vectors for training\n",
    "            self.train = genuine_user_data[:200]\n",
    "    \n",
    "            # True set (200 records)\n",
    "            self.test_genuine = genuine_user_data[200:]\n",
    "    \n",
    "            # False set (250 records, 5 per imposter, 50 imposters in all)\n",
    "            self.test_imposter = imposter_data.groupby(\"subject\").head(5).loc[:, \"H.period\":\"H.Return\"]\n",
    "            \n",
    "            self.training()\n",
    "            self.testing()\n",
    "    \n",
    "            # Calculate Equal Error Rate (EER)\n",
    "            eers.append(evaluateEER(self.user_scores, self.imposter_scores))\n",
    "        \n",
    "        # Return mean and standard deviation of EERs\n",
    "        return np.mean(eers), np.std(eers)\n"
   ]
  },
  {
   "cell_type": "code",
   "execution_count": 18,
   "metadata": {
    "collapsed": false
   },
   "outputs": [
    {
     "data": {
      "text/plain": [
       "(0.7728038349867526, 0.18263787782518265)"
      ]
     },
     "execution_count": 18,
     "metadata": {},
     "output_type": "execute_result"
    }
   ],
   "source": [
    "NeuralNetStandardDetector(subjects).evaluate(data)"
   ]
  }
 ],
 "metadata": {
  "anaconda-cloud": {},
  "kernelspec": {
   "display_name": "Python 3",
   "language": "python",
   "name": "python3"
  },
  "language_info": {
   "codemirror_mode": {
    "name": "ipython",
    "version": 3
   },
   "file_extension": ".py",
   "mimetype": "text/x-python",
   "name": "python",
   "nbconvert_exporter": "python",
   "pygments_lexer": "ipython3",
   "version": "3.11.7"
  }
 },
 "nbformat": 4,
 "nbformat_minor": 0
}
