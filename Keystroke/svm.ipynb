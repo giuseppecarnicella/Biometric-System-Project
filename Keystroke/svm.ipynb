{
 "cells": [
  {
   "cell_type": "code",
   "execution_count": 1,
   "metadata": {
    "collapsed": false
   },
   "outputs": [],
   "source": [
    "import csv,sys\n",
    "import math,random\n",
    "import subprocess\n",
    "import numpy as np\n",
    "import pandas as pd\n",
    "from sklearn.metrics import roc_curve\n",
    "from sklearn.svm import OneClassSVM"
   ]
  },
  {
   "cell_type": "code",
   "execution_count": 2,
   "metadata": {
    "collapsed": true
   },
   "outputs": [],
   "source": [
    "data = pd.read_csv(\"DSL-StrongPasswordData.csv\")"
   ]
  },
  {
   "cell_type": "code",
   "execution_count": 3,
   "metadata": {
    "collapsed": true
   },
   "outputs": [],
   "source": [
    "subjects = data[\"subject\"].unique()"
   ]
  },
  {
   "cell_type": "code",
   "execution_count": 4,
   "metadata": {
    "collapsed": true
   },
   "outputs": [],
   "source": [
    "def evaluateEER(user_scores, imposter_scores):\n",
    "    #print user_scores\n",
    "    labels = [0]*len(user_scores) + [1]*len(imposter_scores)\n",
    "    fpr, tpr, thresholds = roc_curve(labels, user_scores + imposter_scores)\n",
    "    missrates = 1 - tpr\n",
    "    farates = fpr\n",
    "    dists = missrates - farates\n",
    "    idx1 = np.argmin(dists[dists >= 0])\n",
    "    idx2 = np.argmax(dists[dists < 0])\n",
    "    x = [missrates[idx1], farates[idx1]]\n",
    "    y = [missrates[idx2], farates[idx2]]\n",
    "    a = ( x[0] - x[1] ) / ( y[1] - x[1] - y[0] + x[0] )\n",
    "    eer = x[0] + a * ( y[0] - x[0] )\n",
    "    return eer"
   ]
  },
  {
   "cell_type": "code",
   "execution_count": 5,
   "metadata": {
    "collapsed": true
   },
   "outputs": [],
   "source": [
    "def evaluate():\n",
    "    eers = []\n",
    "    for subject in subjects:\n",
    "            \n",
    "        user_scores = []\n",
    "        imposter_scores = []\n",
    "    \n",
    "        # Consider current subject as genuine and rest as imposters\n",
    "        genuine_user_data = data.loc[data.subject == subject, \"H.period\":\"H.Return\"]\n",
    "        imposter_data = data.loc[data.subject != subject, :]\n",
    "    \n",
    "        # genuine user's first 200 time vectors for training\n",
    "        train = genuine_user_data[:200]\n",
    "        train = train.values\n",
    "        train = np.array(train)\n",
    "        #labels = np.ones(len(train),dtype = np.float64)\n",
    "        #print type(labels[0])\n",
    "        test_genuine = genuine_user_data[200:]\n",
    "        test_genuine = test_genuine.values\n",
    "        test_genuine = np.array(test_genuine)\n",
    "        test_imposter = imposter_data.groupby(\"subject\").head(5).loc[:, \"H.period\":\"H.Return\"]\n",
    "        test_imposter = test_imposter.values\n",
    "        test_imposter = np.array(test_imposter)\n",
    "        clf = OneClassSVM(kernel='rbf',gamma=26)\n",
    "        clf.fit(train)\n",
    "        #print len(test_genuine)\n",
    "        #print len(test_imposter)\n",
    "        user_scores = -clf.decision_function(test_genuine)\n",
    "        imposter_scores = -clf.decision_function(test_imposter)\n",
    "        user_scores = list(user_scores)\n",
    "        imposter_scores = list(imposter_scores)\n",
    "        eers.append(evaluateEER(user_scores, imposter_scores))\n",
    "    #print eers   \n",
    "    return np.mean(eers), np.std(eers)"
   ]
  },
  {
   "cell_type": "code",
   "execution_count": 6,
   "metadata": {
    "collapsed": false
   },
   "outputs": [
    {
     "data": {
      "text/plain": [
       "(0.12054244703221502, 0.058709278630758664)"
      ]
     },
     "execution_count": 6,
     "metadata": {},
     "output_type": "execute_result"
    }
   ],
   "source": [
    "evaluate()"
   ]
  }
 ],
 "metadata": {
  "anaconda-cloud": {},
  "kernelspec": {
   "display_name": "Python 3",
   "language": "python",
   "name": "python3"
  },
  "language_info": {
   "codemirror_mode": {
    "name": "ipython",
    "version": 3
   },
   "file_extension": ".py",
   "mimetype": "text/x-python",
   "name": "python",
   "nbconvert_exporter": "python",
   "pygments_lexer": "ipython3",
   "version": "3.11.7"
  }
 },
 "nbformat": 4,
 "nbformat_minor": 1
}
